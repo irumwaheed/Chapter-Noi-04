{
  "nbformat": 4,
  "nbformat_minor": 0,
  "metadata": {
    "colab": {
      "provenance": []
    },
    "kernelspec": {
      "name": "python3",
      "display_name": "Python 3"
    },
    "language_info": {
      "name": "python"
    }
  },
  "cells": [
    {
      "cell_type": "markdown",
      "source": [
        "4-1. Pizzas: Think of at least three kinds of your favorite pizza . Store these pizza names in a list, \n",
        "\n",
        "*    pizza . Store these pizza names in a list, and then use a for loop to print the name of each pizza .\n",
        "*     For each pizza you should have one line of output containing a simple statement like I like pepperoni pizza .\n",
        "\n",
        "\n",
        "*   •\tAdd a line at the end of your program, outside the for loop, that states how much you like pizza\n",
        "*    The output should consist of three or more lines about the kinds of pizza you like and then an additional sentence, such as I really love pizza! "
      ],
      "metadata": {
        "id": "AocBrNsgU0-e"
      }
    },
    {
      "cell_type": "code",
      "source": [
        "irum_pizza_list = ['Pepperoni', 'tikka', 'fajita']\n",
        "for pizza in irum_pizza_list:\n",
        "  print(\"I Like \"+pizza+\" Pizza it's yummy.\")\n",
        "print(\"I love to eat pizza, especially with friends.\")\n",
        "\n",
        "     "
      ],
      "metadata": {
        "colab": {
          "base_uri": "https://localhost:8080/"
        },
        "id": "A9otN8EUWVkX",
        "outputId": "c3bdc9e5-1d0a-4cc7-bccc-457e6d67acd5"
      },
      "execution_count": 1,
      "outputs": [
        {
          "output_type": "stream",
          "name": "stdout",
          "text": [
            "I Like Pepperoni Pizza it's yummy.\n",
            "I Like tikka Pizza it's yummy.\n",
            "I Like fajita Pizza it's yummy.\n",
            "I love to eat pizza, especially with friends.\n"
          ]
        }
      ]
    },
    {
      "cell_type": "markdown",
      "source": [
        "4-2. Animals: Think of at least three different animals that have a common characteristic . Store the names of these animals in a list, and then use a for loop to print out the name of each animal .\n",
        "\n",
        "\n",
        "\n",
        "*  Modify your program to print a statement about each animal, such as A dog would make a great pet.\n",
        " \n",
        "*   Add a line at the end of your program stating what these animals have in common . You could print a sentence such as Any of these animals would make a great pet!\n",
        "\n"
      ],
      "metadata": {
        "id": "uWnpioixXUYa"
      }
    },
    {
      "cell_type": "code",
      "source": [
        "irums_pet_list = [\"parrot\", \"dog\", \"hen\"]\n",
        "for pet in irums_pet_list:\n",
        "  print(\"A \"+pet.title()+\" would make a great pet.\")\n",
        "print(\"\\nAny of these animals would make a great pet!\")\n",
        "     "
      ],
      "metadata": {
        "colab": {
          "base_uri": "https://localhost:8080/"
        },
        "id": "VES43jx5X5Pj",
        "outputId": "295c72dc-dc1f-4a63-bafe-2bf3a4adb08f"
      },
      "execution_count": 2,
      "outputs": [
        {
          "output_type": "stream",
          "name": "stdout",
          "text": [
            "A Parrot would make a great pet.\n",
            "A Dog would make a great pet.\n",
            "A Hen would make a great pet.\n",
            "\n",
            "Any of these animals would make a great pet!\n"
          ]
        }
      ]
    }
  ]
}